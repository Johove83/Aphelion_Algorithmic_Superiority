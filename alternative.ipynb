{
 "cells": [
  {
   "cell_type": "code",
   "execution_count": 2,
   "id": "92a0ce2b",
   "metadata": {
    "tags": []
   },
   "outputs": [
    {
     "name": "stdout",
     "output_type": "stream",
     "text": [
      "Requirement already satisfied: alpaca_trade_api in /opt/conda/lib/python3.7/site-packages (2.3.0)\n",
      "Requirement already satisfied: urllib3<2,>1.24 in /opt/conda/lib/python3.7/site-packages (from alpaca_trade_api) (1.26.12)\n",
      "Requirement already satisfied: deprecation==2.1.0 in /opt/conda/lib/python3.7/site-packages (from alpaca_trade_api) (2.1.0)\n",
      "Requirement already satisfied: aiohttp==3.8.1 in /opt/conda/lib/python3.7/site-packages (from alpaca_trade_api) (3.8.1)\n",
      "Requirement already satisfied: websocket-client<2,>=0.56.0 in /opt/conda/lib/python3.7/site-packages (from alpaca_trade_api) (0.59.0)\n",
      "Requirement already satisfied: requests<3,>2 in /opt/conda/lib/python3.7/site-packages (from alpaca_trade_api) (2.28.1)\n",
      "Requirement already satisfied: pandas>=0.18.1 in /opt/conda/lib/python3.7/site-packages (from alpaca_trade_api) (1.3.5)\n",
      "Requirement already satisfied: websockets<11,>=9.0 in /opt/conda/lib/python3.7/site-packages (from alpaca_trade_api) (10.3)\n",
      "Requirement already satisfied: PyYAML==6.0 in /opt/conda/lib/python3.7/site-packages (from alpaca_trade_api) (6.0)\n",
      "Requirement already satisfied: msgpack==1.0.3 in /opt/conda/lib/python3.7/site-packages (from alpaca_trade_api) (1.0.3)\n",
      "Requirement already satisfied: numpy>=1.11.1 in /opt/conda/lib/python3.7/site-packages (from alpaca_trade_api) (1.21.6)\n",
      "Requirement already satisfied: charset-normalizer<3.0,>=2.0 in /opt/conda/lib/python3.7/site-packages (from aiohttp==3.8.1->alpaca_trade_api) (2.0.4)\n",
      "Requirement already satisfied: typing-extensions>=3.7.4 in /opt/conda/lib/python3.7/site-packages (from aiohttp==3.8.1->alpaca_trade_api) (4.3.0)\n",
      "Requirement already satisfied: asynctest==0.13.0 in /opt/conda/lib/python3.7/site-packages (from aiohttp==3.8.1->alpaca_trade_api) (0.13.0)\n",
      "Requirement already satisfied: frozenlist>=1.1.1 in /opt/conda/lib/python3.7/site-packages (from aiohttp==3.8.1->alpaca_trade_api) (1.3.1)\n",
      "Requirement already satisfied: aiosignal>=1.1.2 in /opt/conda/lib/python3.7/site-packages (from aiohttp==3.8.1->alpaca_trade_api) (1.2.0)\n",
      "Requirement already satisfied: multidict<7.0,>=4.5 in /opt/conda/lib/python3.7/site-packages (from aiohttp==3.8.1->alpaca_trade_api) (6.0.2)\n",
      "Requirement already satisfied: async-timeout<5.0,>=4.0.0a3 in /opt/conda/lib/python3.7/site-packages (from aiohttp==3.8.1->alpaca_trade_api) (4.0.2)\n",
      "Requirement already satisfied: attrs>=17.3.0 in /opt/conda/lib/python3.7/site-packages (from aiohttp==3.8.1->alpaca_trade_api) (21.4.0)\n",
      "Requirement already satisfied: yarl<2.0,>=1.0 in /opt/conda/lib/python3.7/site-packages (from aiohttp==3.8.1->alpaca_trade_api) (1.8.1)\n",
      "Requirement already satisfied: packaging in /opt/conda/lib/python3.7/site-packages (from deprecation==2.1.0->alpaca_trade_api) (20.1)\n",
      "Requirement already satisfied: python-dateutil>=2.7.3 in /opt/conda/lib/python3.7/site-packages (from pandas>=0.18.1->alpaca_trade_api) (2.8.1)\n",
      "Requirement already satisfied: pytz>=2017.3 in /opt/conda/lib/python3.7/site-packages (from pandas>=0.18.1->alpaca_trade_api) (2019.3)\n",
      "Requirement already satisfied: certifi>=2017.4.17 in /opt/conda/lib/python3.7/site-packages (from requests<3,>2->alpaca_trade_api) (2022.6.15)\n",
      "Requirement already satisfied: idna<4,>=2.5 in /opt/conda/lib/python3.7/site-packages (from requests<3,>2->alpaca_trade_api) (2.8)\n",
      "Requirement already satisfied: six in /opt/conda/lib/python3.7/site-packages (from websocket-client<2,>=0.56.0->alpaca_trade_api) (1.14.0)\n",
      "Requirement already satisfied: pyparsing>=2.0.2 in /opt/conda/lib/python3.7/site-packages (from packaging->deprecation==2.1.0->alpaca_trade_api) (2.4.6)\n",
      "\u001b[33mWARNING: Running pip as the 'root' user can result in broken permissions and conflicting behaviour with the system package manager. It is recommended to use a virtual environment instead: https://pip.pypa.io/warnings/venv\u001b[0m\u001b[33m\n",
      "\u001b[0m"
     ]
    },
    {
     "data": {
      "text/plain": [
       "True"
      ]
     },
     "execution_count": 2,
     "metadata": {},
     "output_type": "execute_result"
    }
   ],
   "source": [
    "# Initial imports\n",
    "import os\n",
    "import pandas as pd\n",
    "from pathlib import Path\n",
    "from dotenv import load_dotenv\n",
    "! pip install alpaca_trade_api\n",
    "from pandas.tseries.offsets import DateOffset\n",
    "from alpaca_trade_api import TimeFrame\n",
    "from sklearn.preprocessing import StandardScaler\n",
    "from sklearn.metrics import confusion_matrix, accuracy_score, classification_report\n",
    "# import plotly.graph_objects as go\n",
    "# import plotly.express as px\n",
    "import numpy as np\n",
    "# import hvplot.pandas\n",
    "from sklearn.ensemble import RandomForestClassifier\n",
    "# pd.options.plotting.backend = 'plotly'\n",
    "# Load .env environment variables\n",
    "load_dotenv()\n",
    "\n",
    "#TODO\n",
    "# add columns to each input to the model\n",
    "# which cover the past week(adjustable range) of price and volatility"
   ]
  },
  {
   "cell_type": "code",
   "execution_count": 3,
   "id": "9431c06f",
   "metadata": {},
   "outputs": [
    {
     "ename": "ValueError",
     "evalue": "('Key ID must be given to access Alpaca trade API', ' (env: APCA_API_KEY_ID)')",
     "output_type": "error",
     "traceback": [
      "\u001b[0;31m---------------------------------------------------------------------------\u001b[0m",
      "\u001b[0;31mValueError\u001b[0m                                Traceback (most recent call last)",
      "\u001b[0;32m<ipython-input-3-65b579a90752>\u001b[0m in \u001b[0;36m<module>\u001b[0;34m\u001b[0m\n\u001b[1;32m      9\u001b[0m     \u001b[0malpaca_api_key\u001b[0m\u001b[0;34m,\u001b[0m\u001b[0;34m\u001b[0m\u001b[0;34m\u001b[0m\u001b[0m\n\u001b[1;32m     10\u001b[0m     \u001b[0malpaca_secret_key\u001b[0m\u001b[0;34m,\u001b[0m\u001b[0;34m\u001b[0m\u001b[0;34m\u001b[0m\u001b[0m\n\u001b[0;32m---> 11\u001b[0;31m     \u001b[0mapi_version\u001b[0m \u001b[0;34m=\u001b[0m \u001b[0;34m\"v2\"\u001b[0m\u001b[0;34m\u001b[0m\u001b[0;34m\u001b[0m\u001b[0m\n\u001b[0m\u001b[1;32m     12\u001b[0m )\n",
      "\u001b[0;32m/opt/conda/lib/python3.7/site-packages/alpaca_trade_api/rest.py\u001b[0m in \u001b[0;36m__init__\u001b[0;34m(self, key_id, secret_key, base_url, api_version, oauth, raw_data)\u001b[0m\n\u001b[1;32m    167\u001b[0m         \"\"\"\n\u001b[1;32m    168\u001b[0m         self._key_id, self._secret_key, self._oauth = get_credentials(\n\u001b[0;32m--> 169\u001b[0;31m             key_id, secret_key, oauth)\n\u001b[0m\u001b[1;32m    170\u001b[0m         \u001b[0mself\u001b[0m\u001b[0;34m.\u001b[0m\u001b[0m_base_url\u001b[0m\u001b[0;34m:\u001b[0m \u001b[0mURL\u001b[0m \u001b[0;34m=\u001b[0m \u001b[0mURL\u001b[0m\u001b[0;34m(\u001b[0m\u001b[0mbase_url\u001b[0m \u001b[0;32mor\u001b[0m \u001b[0mget_base_url\u001b[0m\u001b[0;34m(\u001b[0m\u001b[0;34m)\u001b[0m\u001b[0;34m)\u001b[0m\u001b[0;34m\u001b[0m\u001b[0;34m\u001b[0m\u001b[0m\n\u001b[1;32m    171\u001b[0m         \u001b[0mself\u001b[0m\u001b[0;34m.\u001b[0m\u001b[0m_api_version\u001b[0m \u001b[0;34m=\u001b[0m \u001b[0mget_api_version\u001b[0m\u001b[0;34m(\u001b[0m\u001b[0mapi_version\u001b[0m\u001b[0;34m)\u001b[0m\u001b[0;34m\u001b[0m\u001b[0;34m\u001b[0m\u001b[0m\n",
      "\u001b[0;32m/opt/conda/lib/python3.7/site-packages/alpaca_trade_api/common.py\u001b[0m in \u001b[0;36mget_credentials\u001b[0;34m(key_id, secret_key, oauth)\u001b[0m\n\u001b[1;32m     83\u001b[0m     \u001b[0;32mif\u001b[0m \u001b[0mkey_id\u001b[0m \u001b[0;32mis\u001b[0m \u001b[0;32mNone\u001b[0m \u001b[0;32mand\u001b[0m \u001b[0moauth\u001b[0m \u001b[0;32mis\u001b[0m \u001b[0;32mNone\u001b[0m\u001b[0;34m:\u001b[0m\u001b[0;34m\u001b[0m\u001b[0;34m\u001b[0m\u001b[0m\n\u001b[1;32m     84\u001b[0m         raise ValueError('Key ID must be given to access Alpaca trade API',\n\u001b[0;32m---> 85\u001b[0;31m                          ' (env: APCA_API_KEY_ID)')\n\u001b[0m\u001b[1;32m     86\u001b[0m \u001b[0;34m\u001b[0m\u001b[0m\n\u001b[1;32m     87\u001b[0m     \u001b[0msecret_key\u001b[0m \u001b[0;34m=\u001b[0m \u001b[0msecret_key\u001b[0m \u001b[0;32mor\u001b[0m \u001b[0mos\u001b[0m\u001b[0;34m.\u001b[0m\u001b[0menviron\u001b[0m\u001b[0;34m.\u001b[0m\u001b[0mget\u001b[0m\u001b[0;34m(\u001b[0m\u001b[0;34m'APCA_API_SECRET_KEY'\u001b[0m\u001b[0;34m)\u001b[0m\u001b[0;34m\u001b[0m\u001b[0;34m\u001b[0m\u001b[0m\n",
      "\u001b[0;31mValueError\u001b[0m: ('Key ID must be given to access Alpaca trade API', ' (env: APCA_API_KEY_ID)')"
     ]
    }
   ],
   "source": [
    "import alpaca_trade_api as tradeapi\n",
    "\n",
    "# Set Alpaca API key and secret\n",
    "alpaca_api_key = os.getenv(\"ALPACA_API_KEY\")\n",
    "alpaca_secret_key = os.getenv(\"ALPACA_SECRET_KEY\")\n",
    "alpaca_base_url = \"https://paper-api.alpaca.markets\"\n",
    "\n",
    "api = tradeapi.REST(\n",
    "    alpaca_api_key,\n",
    "    alpaca_secret_key,\n",
    "    api_version = \"v2\"\n",
    ")"
   ]
  },
  {
   "cell_type": "code",
   "execution_count": null,
   "id": "f2d35327",
   "metadata": {},
   "outputs": [],
   "source": [
    "# Create a connection to the API \n",
    "api = tradeapi.REST(alpaca_api_key, alpaca_secret_key, alpaca_base_url, api_version=\"v2\")\n"
   ]
  },
  {
   "cell_type": "code",
   "execution_count": null,
   "id": "43a799af",
   "metadata": {},
   "outputs": [],
   "source": [
    "tesla = 'TSLA'\n",
    "start_date = '2016-01-01'\n",
    "end_date = '2022-10-19'\n",
    "\n",
    "timeframe = TimeFrame.Day"
   ]
  },
  {
   "cell_type": "code",
   "execution_count": null,
   "id": "947b5d30",
   "metadata": {},
   "outputs": [],
   "source": [
    "SMA_fast = 5\n",
    "SMA_slow = 13"
   ]
  },
  {
   "cell_type": "code",
   "execution_count": null,
   "id": "6acdd931",
   "metadata": {},
   "outputs": [],
   "source": [
    "tesla_data = api.get_bars(tesla, timeframe, start_date, end_date).df\n",
    "# tesla_data.plot()"
   ]
  },
  {
   "cell_type": "code",
   "execution_count": null,
   "id": "6f03dba9",
   "metadata": {},
   "outputs": [],
   "source": [
    "# tesla_data = tesla_data.filter(['close'])\n",
    "# tesla_data.rename(columns={'close':'TSLA'}, inplace = True)\n",
    "# tesla_data.index = tesla_data.index.map(lambda timestamp : timestamp.date)"
   ]
  },
  {
   "cell_type": "code",
   "execution_count": null,
   "id": "da8be52f",
   "metadata": {},
   "outputs": [],
   "source": [
    "tesla_data"
   ]
  },
  {
   "cell_type": "code",
   "execution_count": null,
   "id": "0ed29eea",
   "metadata": {},
   "outputs": [],
   "source": [
    "tesla_data = tesla_data.filter(['close'])\n",
    "tesla_data.rename(columns={'close':'TSLA'}, inplace = True)\n",
    "tesla_data.index = tesla_data.index.map(lambda timestamp : timestamp.date)\n",
    "tesla_data['slow_SMA'] = tesla_data['TSLA'].rolling(window=SMA_slow).mean()\n",
    "tesla_data['fast_SMA'] = tesla_data['TSLA'].rolling(window=SMA_fast).mean()"
   ]
  },
  {
   "cell_type": "code",
   "execution_count": null,
   "id": "2211b0a3",
   "metadata": {},
   "outputs": [],
   "source": [
    "X = tesla_data[['fast_SMA', 'slow_SMA']].shift().dropna().copy()"
   ]
  },
  {
   "cell_type": "code",
   "execution_count": null,
   "id": "5acb9bbe",
   "metadata": {},
   "outputs": [],
   "source": [
    "tesla_data['signal'] = 0.0\n",
    "tesla_data['actual_returns'] = tesla_data['TSLA'].pct_change()\n",
    "tesla_data"
   ]
  },
  {
   "cell_type": "code",
   "execution_count": null,
   "id": "1925cfba",
   "metadata": {},
   "outputs": [],
   "source": [
    "for i in tesla_data['actual_returns']:\n",
    "    if i > 0:\n",
    "        z = True\n",
    "    else:\n",
    "        z = False"
   ]
  },
  {
   "cell_type": "code",
   "execution_count": null,
   "id": "d3467d09",
   "metadata": {},
   "outputs": [],
   "source": [
    "tesla_data.loc[(tesla_data['actual_returns'] >= 0), 'signal'] = -1\n",
    "tesla_data.loc[(tesla_data['actual_returns'] < 0), 'signal'] = 1"
   ]
  },
  {
   "cell_type": "code",
   "execution_count": null,
   "id": "c0f43df5",
   "metadata": {},
   "outputs": [],
   "source": [
    "y = tesla_data['signal'].copy()"
   ]
  },
  {
   "cell_type": "code",
   "execution_count": null,
   "id": "cdeb453f",
   "metadata": {},
   "outputs": [],
   "source": [
    "training_begin = X.index.min()\n",
    "print(training_begin)\n",
    "training_end = X.index.min() + DateOffset(months=72)\n"
   ]
  },
  {
   "cell_type": "code",
   "execution_count": null,
   "id": "f3c83c6c",
   "metadata": {},
   "outputs": [],
   "source": [
    "X_train = X.loc[training_begin:training_end]\n",
    "y_train = y.loc[training_begin:training_end]"
   ]
  },
  {
   "cell_type": "code",
   "execution_count": null,
   "id": "ef820888",
   "metadata": {},
   "outputs": [],
   "source": [
    "X_test = X.loc[training_end:]\n",
    "y_test = y.loc[training_end:]"
   ]
  },
  {
   "cell_type": "code",
   "execution_count": null,
   "id": "af00218b",
   "metadata": {},
   "outputs": [],
   "source": [
    "scaler = StandardScaler()\n",
    "X_scaler = scaler.fit(X_train)\n",
    "X_train_scaled = X_scaler.transform(X_train)\n",
    "X_test_scaled = X_scaler.transform(X_test)"
   ]
  },
  {
   "cell_type": "code",
   "execution_count": null,
   "id": "5d77b261",
   "metadata": {},
   "outputs": [],
   "source": [
    "rf_model = RandomForestClassifier(n_estimators=500, random_state=78)"
   ]
  },
  {
   "cell_type": "code",
   "execution_count": null,
   "id": "ed850a2c",
   "metadata": {},
   "outputs": [],
   "source": [
    "rf_model = rf_model.fit(X_train_scaled, y_train)"
   ]
  },
  {
   "cell_type": "code",
   "execution_count": null,
   "id": "4271319c",
   "metadata": {},
   "outputs": [],
   "source": [
    "predictions = rf_model.predict(X_test_scaled)"
   ]
  },
  {
   "cell_type": "code",
   "execution_count": null,
   "id": "d81300a7",
   "metadata": {},
   "outputs": [],
   "source": [
    "cm = confusion_matrix(y_test, predictions)\n",
    "cm_df = pd.DataFrame(\n",
    "    cm, index=[\"Actual 0\", \"Actual 1\"], columns=[\"Predicted 0\", \"Predicted 1\"]\n",
    ")\n",
    "\n",
    "# Calculating the accuracy score\n",
    "acc_score = accuracy_score(y_test, predictions)"
   ]
  },
  {
   "cell_type": "code",
   "execution_count": null,
   "id": "fbf4061d",
   "metadata": {},
   "outputs": [],
   "source": [
    "# Displaying results\n",
    "print(\"Confusion Matrix\")\n",
    "display(cm_df)\n",
    "print(f\"Accuracy Score : {acc_score}\")\n",
    "print(\"Classification Report\")\n",
    "print(classification_report(y_test, predictions))"
   ]
  },
  {
   "cell_type": "code",
   "execution_count": null,
   "id": "6a70e3b8",
   "metadata": {},
   "outputs": [],
   "source": [
    "\n",
    "# Create a Dataframe using predicted data\n",
    "predictions_data = pd.DataFrame(index=X_test.index)\n",
    "testing_report = classification_report(y_test, predictions)\n",
    "print(testing_report)\n",
    "\n",
    "# Add two new columns to the DateFrame called predicted signals and actual returns\n",
    "predictions_data['predicted_signals'] = predictions\n",
    "predictions_data['actual_returns'] = tesla_data['actual_returns']\n",
    "\n",
    "# Add third column that is the sum of the two previously made columns\n",
    "predictions_data['predictions'] = (predictions_data['actual_returns'] * predictions_data['predicted_signals'])"
   ]
  },
  {
   "cell_type": "code",
   "execution_count": null,
   "id": "951d9e4d",
   "metadata": {},
   "outputs": [],
   "source": [
    "\n",
    "(1 + predictions_data[['actual_returns', 'predictions']]).cumprod().plot()"
   ]
  },
  {
   "cell_type": "code",
   "execution_count": null,
   "id": "25c7665e",
   "metadata": {},
   "outputs": [],
   "source": []
  }
 ],
 "metadata": {
  "instance_type": "ml.t3.medium",
  "kernelspec": {
   "display_name": "Python 3 (Data Science)",
   "language": "python",
   "name": "python3__SAGEMAKER_INTERNAL__arn:aws:sagemaker:us-west-2:236514542706:image/datascience-1.0"
  },
  "language_info": {
   "codemirror_mode": {
    "name": "ipython",
    "version": 3
   },
   "file_extension": ".py",
   "mimetype": "text/x-python",
   "name": "python",
   "nbconvert_exporter": "python",
   "pygments_lexer": "ipython3",
   "version": "3.7.10"
  }
 },
 "nbformat": 4,
 "nbformat_minor": 5
}
