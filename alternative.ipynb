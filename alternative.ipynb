{
 "cells": [
  {
   "cell_type": "code",
   "execution_count": 1,
   "id": "92a0ce2b",
   "metadata": {
    "tags": []
   },
   "outputs": [
    {
     "name": "stdout",
     "output_type": "stream",
     "text": [
      "Looking in indexes: https://pypi.org/simple, https://pip.repos.neuron.amazonaws.com\n",
      "Requirement already satisfied: alpaca_trade_api in /home/ec2-user/anaconda3/envs/amazonei_mxnet_p36/lib/python3.6/site-packages (2.3.0)\n",
      "Requirement already satisfied: urllib3<2,>1.24 in /home/ec2-user/anaconda3/envs/amazonei_mxnet_p36/lib/python3.6/site-packages (from alpaca_trade_api) (1.26.8)\n",
      "Requirement already satisfied: requests<3,>2 in /home/ec2-user/anaconda3/envs/amazonei_mxnet_p36/lib/python3.6/site-packages (from alpaca_trade_api) (2.27.1)\n",
      "Requirement already satisfied: PyYAML==6.0 in /home/ec2-user/anaconda3/envs/amazonei_mxnet_p36/lib/python3.6/site-packages (from alpaca_trade_api) (6.0)\n",
      "Requirement already satisfied: msgpack==1.0.3 in /home/ec2-user/anaconda3/envs/amazonei_mxnet_p36/lib/python3.6/site-packages (from alpaca_trade_api) (1.0.3)\n",
      "Requirement already satisfied: websocket-client<2,>=0.56.0 in /home/ec2-user/anaconda3/envs/amazonei_mxnet_p36/lib/python3.6/site-packages (from alpaca_trade_api) (0.59.0)\n",
      "Requirement already satisfied: deprecation==2.1.0 in /home/ec2-user/anaconda3/envs/amazonei_mxnet_p36/lib/python3.6/site-packages (from alpaca_trade_api) (2.1.0)\n",
      "Requirement already satisfied: pandas>=0.18.1 in /home/ec2-user/anaconda3/envs/amazonei_mxnet_p36/lib/python3.6/site-packages (from alpaca_trade_api) (1.1.5)\n",
      "Requirement already satisfied: numpy>=1.11.1 in /home/ec2-user/anaconda3/envs/amazonei_mxnet_p36/lib/python3.6/site-packages (from alpaca_trade_api) (1.19.5)\n",
      "Requirement already satisfied: aiohttp==3.8.1 in /home/ec2-user/anaconda3/envs/amazonei_mxnet_p36/lib/python3.6/site-packages (from alpaca_trade_api) (3.8.1)\n",
      "Requirement already satisfied: websockets<11,>=9.0 in /home/ec2-user/anaconda3/envs/amazonei_mxnet_p36/lib/python3.6/site-packages (from alpaca_trade_api) (9.1)\n",
      "Requirement already satisfied: typing-extensions>=3.7.4 in /home/ec2-user/anaconda3/envs/amazonei_mxnet_p36/lib/python3.6/site-packages (from aiohttp==3.8.1->alpaca_trade_api) (4.1.1)\n",
      "Requirement already satisfied: idna-ssl>=1.0 in /home/ec2-user/anaconda3/envs/amazonei_mxnet_p36/lib/python3.6/site-packages (from aiohttp==3.8.1->alpaca_trade_api) (1.1.0)\n",
      "Requirement already satisfied: asynctest==0.13.0 in /home/ec2-user/anaconda3/envs/amazonei_mxnet_p36/lib/python3.6/site-packages (from aiohttp==3.8.1->alpaca_trade_api) (0.13.0)\n",
      "Requirement already satisfied: multidict<7.0,>=4.5 in /home/ec2-user/anaconda3/envs/amazonei_mxnet_p36/lib/python3.6/site-packages (from aiohttp==3.8.1->alpaca_trade_api) (5.1.0)\n",
      "Requirement already satisfied: frozenlist>=1.1.1 in /home/ec2-user/anaconda3/envs/amazonei_mxnet_p36/lib/python3.6/site-packages (from aiohttp==3.8.1->alpaca_trade_api) (1.2.0)\n",
      "Requirement already satisfied: async-timeout<5.0,>=4.0.0a3 in /home/ec2-user/anaconda3/envs/amazonei_mxnet_p36/lib/python3.6/site-packages (from aiohttp==3.8.1->alpaca_trade_api) (4.0.2)\n",
      "Requirement already satisfied: aiosignal>=1.1.2 in /home/ec2-user/anaconda3/envs/amazonei_mxnet_p36/lib/python3.6/site-packages (from aiohttp==3.8.1->alpaca_trade_api) (1.2.0)\n",
      "Requirement already satisfied: charset-normalizer<3.0,>=2.0 in /home/ec2-user/anaconda3/envs/amazonei_mxnet_p36/lib/python3.6/site-packages (from aiohttp==3.8.1->alpaca_trade_api) (2.0.12)\n",
      "Requirement already satisfied: yarl<2.0,>=1.0 in /home/ec2-user/anaconda3/envs/amazonei_mxnet_p36/lib/python3.6/site-packages (from aiohttp==3.8.1->alpaca_trade_api) (1.6.3)\n",
      "Requirement already satisfied: attrs>=17.3.0 in /home/ec2-user/anaconda3/envs/amazonei_mxnet_p36/lib/python3.6/site-packages (from aiohttp==3.8.1->alpaca_trade_api) (20.3.0)\n",
      "Requirement already satisfied: packaging in /home/ec2-user/anaconda3/envs/amazonei_mxnet_p36/lib/python3.6/site-packages (from deprecation==2.1.0->alpaca_trade_api) (21.3)\n",
      "Requirement already satisfied: python-dateutil>=2.7.3 in /home/ec2-user/anaconda3/envs/amazonei_mxnet_p36/lib/python3.6/site-packages (from pandas>=0.18.1->alpaca_trade_api) (2.8.1)\n",
      "Requirement already satisfied: pytz>=2017.2 in /home/ec2-user/anaconda3/envs/amazonei_mxnet_p36/lib/python3.6/site-packages (from pandas>=0.18.1->alpaca_trade_api) (2021.1)\n",
      "Requirement already satisfied: certifi>=2017.4.17 in /home/ec2-user/anaconda3/envs/amazonei_mxnet_p36/lib/python3.6/site-packages (from requests<3,>2->alpaca_trade_api) (2021.5.30)\n",
      "Requirement already satisfied: idna<4,>=2.5 in /home/ec2-user/anaconda3/envs/amazonei_mxnet_p36/lib/python3.6/site-packages (from requests<3,>2->alpaca_trade_api) (3.1)\n",
      "Requirement already satisfied: six in /home/ec2-user/anaconda3/envs/amazonei_mxnet_p36/lib/python3.6/site-packages (from websocket-client<2,>=0.56.0->alpaca_trade_api) (1.15.0)\n",
      "Requirement already satisfied: pyparsing!=3.0.5,>=2.0.2 in /home/ec2-user/anaconda3/envs/amazonei_mxnet_p36/lib/python3.6/site-packages (from packaging->deprecation==2.1.0->alpaca_trade_api) (2.4.7)\n"
     ]
    },
    {
     "data": {
      "text/plain": [
       "True"
      ]
     },
     "execution_count": 1,
     "metadata": {},
     "output_type": "execute_result"
    }
   ],
   "source": [
    "# Initial imports\n",
    "import os\n",
    "import pandas as pd\n",
    "from pathlib import Path\n",
    "from dotenv import load_dotenv\n",
    "! pip install alpaca_trade_api\n",
    "from pandas.tseries.offsets import DateOffset\n",
    "from alpaca_trade_api import TimeFrame\n",
    "from sklearn.preprocessing import StandardScaler\n",
    "from sklearn.metrics import confusion_matrix, accuracy_score, classification_report\n",
    "# import plotly.graph_objects as go\n",
    "# import plotly.express as px\n",
    "import numpy as np\n",
    "# import hvplot.pandas\n",
    "from sklearn.ensemble import RandomForestClassifier\n",
    "# pd.options.plotting.backend = 'plotly'\n",
    "# Load .env environment variables\n",
    "load_dotenv()\n",
    "\n",
    "#TODO\n",
    "# add columns to each input to the model\n",
    "# which cover the past week(adjustable range) of price and volatility"
   ]
  },
  {
   "cell_type": "code",
   "execution_count": 2,
   "id": "9431c06f",
   "metadata": {},
   "outputs": [],
   "source": [
    "import alpaca_trade_api as tradeapi\n",
    "\n",
    "# Set Alpaca API key and secret\n",
    "alpaca_api_key = os.getenv(\"ALPACA_API_KEY\")\n",
    "alpaca_secret_key = os.getenv(\"ALPACA_SECRET_KEY\")\n",
    "alpaca_base_url = \"https://paper-api.alpaca.markets\"\n",
    "\n",
    "api = tradeapi.REST(\n",
    "    alpaca_api_key,\n",
    "    alpaca_secret_key,\n",
    "    api_version = \"v2\"\n",
    ")"
   ]
  },
  {
   "cell_type": "code",
   "execution_count": 3,
   "id": "f2d35327",
   "metadata": {},
   "outputs": [],
   "source": [
    "# Create a connection to the API \n",
    "api = tradeapi.REST(alpaca_api_key, alpaca_secret_key, alpaca_base_url, api_version=\"v2\")\n"
   ]
  },
  {
   "cell_type": "code",
   "execution_count": 4,
   "id": "43a799af",
   "metadata": {},
   "outputs": [],
   "source": [
    "tesla = 'TSLA'\n",
    "start_date = '2016-01-01'\n",
    "end_date = '2022-10-19'\n",
    "\n",
    "timeframe = TimeFrame.Day"
   ]
  },
  {
   "cell_type": "code",
   "execution_count": 5,
   "id": "947b5d30",
   "metadata": {},
   "outputs": [],
   "source": [
    "SMA_fast = 5\n",
    "SMA_slow = 13"
   ]
  },
  {
   "cell_type": "code",
   "execution_count": 6,
   "id": "6acdd931",
   "metadata": {},
   "outputs": [],
   "source": [
    "tesla_data = api.get_bars(tesla, timeframe, start_date, end_date).df\n",
    "# tesla_data.plot()"
   ]
  },
  {
   "cell_type": "code",
   "execution_count": 7,
   "id": "6f03dba9",
   "metadata": {},
   "outputs": [],
   "source": [
    "# tesla_data = tesla_data.filter(['close'])\n",
    "# tesla_data.rename(columns={'close':'TSLA'}, inplace = True)\n",
    "# tesla_data.index = tesla_data.index.map(lambda timestamp : timestamp.date)"
   ]
  },
  {
   "cell_type": "code",
   "execution_count": 8,
   "id": "da8be52f",
   "metadata": {},
   "outputs": [
    {
     "data": {
      "text/html": [
       "<div>\n",
       "<style scoped>\n",
       "    .dataframe tbody tr th:only-of-type {\n",
       "        vertical-align: middle;\n",
       "    }\n",
       "\n",
       "    .dataframe tbody tr th {\n",
       "        vertical-align: top;\n",
       "    }\n",
       "\n",
       "    .dataframe thead th {\n",
       "        text-align: right;\n",
       "    }\n",
       "</style>\n",
       "<table border=\"1\" class=\"dataframe\">\n",
       "  <thead>\n",
       "    <tr style=\"text-align: right;\">\n",
       "      <th></th>\n",
       "      <th>open</th>\n",
       "      <th>high</th>\n",
       "      <th>low</th>\n",
       "      <th>close</th>\n",
       "      <th>volume</th>\n",
       "      <th>trade_count</th>\n",
       "      <th>vwap</th>\n",
       "    </tr>\n",
       "    <tr>\n",
       "      <th>timestamp</th>\n",
       "      <th></th>\n",
       "      <th></th>\n",
       "      <th></th>\n",
       "      <th></th>\n",
       "      <th></th>\n",
       "      <th></th>\n",
       "      <th></th>\n",
       "    </tr>\n",
       "  </thead>\n",
       "  <tbody>\n",
       "    <tr>\n",
       "      <th>2016-01-04 05:00:00+00:00</th>\n",
       "      <td>230.77</td>\n",
       "      <td>231.38</td>\n",
       "      <td>219.00</td>\n",
       "      <td>223.41</td>\n",
       "      <td>6827146</td>\n",
       "      <td>69015</td>\n",
       "      <td>223.588147</td>\n",
       "    </tr>\n",
       "    <tr>\n",
       "      <th>2016-01-05 05:00:00+00:00</th>\n",
       "      <td>226.29</td>\n",
       "      <td>226.89</td>\n",
       "      <td>220.00</td>\n",
       "      <td>223.43</td>\n",
       "      <td>3186752</td>\n",
       "      <td>31300</td>\n",
       "      <td>223.139332</td>\n",
       "    </tr>\n",
       "    <tr>\n",
       "      <th>2016-01-06 05:00:00+00:00</th>\n",
       "      <td>220.00</td>\n",
       "      <td>220.05</td>\n",
       "      <td>215.98</td>\n",
       "      <td>219.04</td>\n",
       "      <td>3779128</td>\n",
       "      <td>33011</td>\n",
       "      <td>217.791187</td>\n",
       "    </tr>\n",
       "    <tr>\n",
       "      <th>2016-01-07 05:00:00+00:00</th>\n",
       "      <td>214.24</td>\n",
       "      <td>218.44</td>\n",
       "      <td>213.67</td>\n",
       "      <td>215.65</td>\n",
       "      <td>3554251</td>\n",
       "      <td>33417</td>\n",
       "      <td>216.042799</td>\n",
       "    </tr>\n",
       "    <tr>\n",
       "      <th>2016-01-08 05:00:00+00:00</th>\n",
       "      <td>218.56</td>\n",
       "      <td>220.44</td>\n",
       "      <td>210.77</td>\n",
       "      <td>211.00</td>\n",
       "      <td>3628058</td>\n",
       "      <td>32682</td>\n",
       "      <td>214.595420</td>\n",
       "    </tr>\n",
       "    <tr>\n",
       "      <th>...</th>\n",
       "      <td>...</td>\n",
       "      <td>...</td>\n",
       "      <td>...</td>\n",
       "      <td>...</td>\n",
       "      <td>...</td>\n",
       "      <td>...</td>\n",
       "      <td>...</td>\n",
       "    </tr>\n",
       "    <tr>\n",
       "      <th>2022-10-13 04:00:00+00:00</th>\n",
       "      <td>208.49</td>\n",
       "      <td>222.99</td>\n",
       "      <td>206.22</td>\n",
       "      <td>221.72</td>\n",
       "      <td>91291509</td>\n",
       "      <td>1153807</td>\n",
       "      <td>215.393423</td>\n",
       "    </tr>\n",
       "    <tr>\n",
       "      <th>2022-10-14 04:00:00+00:00</th>\n",
       "      <td>223.94</td>\n",
       "      <td>226.26</td>\n",
       "      <td>204.16</td>\n",
       "      <td>204.99</td>\n",
       "      <td>94265996</td>\n",
       "      <td>1282798</td>\n",
       "      <td>211.621166</td>\n",
       "    </tr>\n",
       "    <tr>\n",
       "      <th>2022-10-17 04:00:00+00:00</th>\n",
       "      <td>210.00</td>\n",
       "      <td>221.86</td>\n",
       "      <td>209.45</td>\n",
       "      <td>219.35</td>\n",
       "      <td>79428814</td>\n",
       "      <td>954631</td>\n",
       "      <td>217.475837</td>\n",
       "    </tr>\n",
       "    <tr>\n",
       "      <th>2022-10-18 04:00:00+00:00</th>\n",
       "      <td>229.20</td>\n",
       "      <td>229.82</td>\n",
       "      <td>217.25</td>\n",
       "      <td>220.19</td>\n",
       "      <td>75893644</td>\n",
       "      <td>841838</td>\n",
       "      <td>221.608610</td>\n",
       "    </tr>\n",
       "    <tr>\n",
       "      <th>2022-10-19 04:00:00+00:00</th>\n",
       "      <td>219.70</td>\n",
       "      <td>222.93</td>\n",
       "      <td>217.78</td>\n",
       "      <td>222.04</td>\n",
       "      <td>67721429</td>\n",
       "      <td>864644</td>\n",
       "      <td>219.800605</td>\n",
       "    </tr>\n",
       "  </tbody>\n",
       "</table>\n",
       "<p>1712 rows × 7 columns</p>\n",
       "</div>"
      ],
      "text/plain": [
       "                             open    high     low   close    volume  \\\n",
       "timestamp                                                             \n",
       "2016-01-04 05:00:00+00:00  230.77  231.38  219.00  223.41   6827146   \n",
       "2016-01-05 05:00:00+00:00  226.29  226.89  220.00  223.43   3186752   \n",
       "2016-01-06 05:00:00+00:00  220.00  220.05  215.98  219.04   3779128   \n",
       "2016-01-07 05:00:00+00:00  214.24  218.44  213.67  215.65   3554251   \n",
       "2016-01-08 05:00:00+00:00  218.56  220.44  210.77  211.00   3628058   \n",
       "...                           ...     ...     ...     ...       ...   \n",
       "2022-10-13 04:00:00+00:00  208.49  222.99  206.22  221.72  91291509   \n",
       "2022-10-14 04:00:00+00:00  223.94  226.26  204.16  204.99  94265996   \n",
       "2022-10-17 04:00:00+00:00  210.00  221.86  209.45  219.35  79428814   \n",
       "2022-10-18 04:00:00+00:00  229.20  229.82  217.25  220.19  75893644   \n",
       "2022-10-19 04:00:00+00:00  219.70  222.93  217.78  222.04  67721429   \n",
       "\n",
       "                           trade_count        vwap  \n",
       "timestamp                                           \n",
       "2016-01-04 05:00:00+00:00        69015  223.588147  \n",
       "2016-01-05 05:00:00+00:00        31300  223.139332  \n",
       "2016-01-06 05:00:00+00:00        33011  217.791187  \n",
       "2016-01-07 05:00:00+00:00        33417  216.042799  \n",
       "2016-01-08 05:00:00+00:00        32682  214.595420  \n",
       "...                                ...         ...  \n",
       "2022-10-13 04:00:00+00:00      1153807  215.393423  \n",
       "2022-10-14 04:00:00+00:00      1282798  211.621166  \n",
       "2022-10-17 04:00:00+00:00       954631  217.475837  \n",
       "2022-10-18 04:00:00+00:00       841838  221.608610  \n",
       "2022-10-19 04:00:00+00:00       864644  219.800605  \n",
       "\n",
       "[1712 rows x 7 columns]"
      ]
     },
     "execution_count": 8,
     "metadata": {},
     "output_type": "execute_result"
    }
   ],
   "source": [
    "tesla_data"
   ]
  },
  {
   "cell_type": "code",
   "execution_count": 9,
   "id": "0ed29eea",
   "metadata": {},
   "outputs": [],
   "source": [
    "tesla_data = tesla_data.filter(['close'])\n",
    "tesla_data.rename(columns={'close':'TSLA'}, inplace = True)\n",
    "tesla_data.index = tesla_data.index.map(lambda timestamp : timestamp.date)\n",
    "tesla_data['slow_SMA'] = tesla_data['TSLA'].rolling(window=SMA_slow).mean()\n",
    "tesla_data['fast_SMA'] = tesla_data['TSLA'].rolling(window=SMA_fast).mean()"
   ]
  },
  {
   "cell_type": "code",
   "execution_count": 10,
   "id": "2211b0a3",
   "metadata": {},
   "outputs": [],
   "source": [
    "X = tesla_data[['fast_SMA', 'slow_SMA']].shift().dropna().copy()"
   ]
  },
  {
   "cell_type": "code",
   "execution_count": 11,
   "id": "5acb9bbe",
   "metadata": {},
   "outputs": [
    {
     "data": {
      "text/html": [
       "<div>\n",
       "<style scoped>\n",
       "    .dataframe tbody tr th:only-of-type {\n",
       "        vertical-align: middle;\n",
       "    }\n",
       "\n",
       "    .dataframe tbody tr th {\n",
       "        vertical-align: top;\n",
       "    }\n",
       "\n",
       "    .dataframe thead th {\n",
       "        text-align: right;\n",
       "    }\n",
       "</style>\n",
       "<table border=\"1\" class=\"dataframe\">\n",
       "  <thead>\n",
       "    <tr style=\"text-align: right;\">\n",
       "      <th></th>\n",
       "      <th>TSLA</th>\n",
       "      <th>slow_SMA</th>\n",
       "      <th>fast_SMA</th>\n",
       "      <th>signal</th>\n",
       "      <th>actual_returns</th>\n",
       "    </tr>\n",
       "  </thead>\n",
       "  <tbody>\n",
       "    <tr>\n",
       "      <th>2016-01-04</th>\n",
       "      <td>223.41</td>\n",
       "      <td>NaN</td>\n",
       "      <td>NaN</td>\n",
       "      <td>0.0</td>\n",
       "      <td>NaN</td>\n",
       "    </tr>\n",
       "    <tr>\n",
       "      <th>2016-01-05</th>\n",
       "      <td>223.43</td>\n",
       "      <td>NaN</td>\n",
       "      <td>NaN</td>\n",
       "      <td>0.0</td>\n",
       "      <td>0.000090</td>\n",
       "    </tr>\n",
       "    <tr>\n",
       "      <th>2016-01-06</th>\n",
       "      <td>219.04</td>\n",
       "      <td>NaN</td>\n",
       "      <td>NaN</td>\n",
       "      <td>0.0</td>\n",
       "      <td>-0.019648</td>\n",
       "    </tr>\n",
       "    <tr>\n",
       "      <th>2016-01-07</th>\n",
       "      <td>215.65</td>\n",
       "      <td>NaN</td>\n",
       "      <td>NaN</td>\n",
       "      <td>0.0</td>\n",
       "      <td>-0.015477</td>\n",
       "    </tr>\n",
       "    <tr>\n",
       "      <th>2016-01-08</th>\n",
       "      <td>211.00</td>\n",
       "      <td>NaN</td>\n",
       "      <td>218.506</td>\n",
       "      <td>0.0</td>\n",
       "      <td>-0.021563</td>\n",
       "    </tr>\n",
       "    <tr>\n",
       "      <th>...</th>\n",
       "      <td>...</td>\n",
       "      <td>...</td>\n",
       "      <td>...</td>\n",
       "      <td>...</td>\n",
       "      <td>...</td>\n",
       "    </tr>\n",
       "    <tr>\n",
       "      <th>2022-10-13</th>\n",
       "      <td>221.72</td>\n",
       "      <td>244.344615</td>\n",
       "      <td>220.298</td>\n",
       "      <td>0.0</td>\n",
       "      <td>0.020622</td>\n",
       "    </tr>\n",
       "    <tr>\n",
       "      <th>2022-10-14</th>\n",
       "      <td>204.99</td>\n",
       "      <td>238.348462</td>\n",
       "      <td>216.682</td>\n",
       "      <td>0.0</td>\n",
       "      <td>-0.075456</td>\n",
       "    </tr>\n",
       "    <tr>\n",
       "      <th>2022-10-17</th>\n",
       "      <td>219.35</td>\n",
       "      <td>233.082308</td>\n",
       "      <td>215.960</td>\n",
       "      <td>0.0</td>\n",
       "      <td>0.070052</td>\n",
       "    </tr>\n",
       "    <tr>\n",
       "      <th>2022-10-18</th>\n",
       "      <td>220.19</td>\n",
       "      <td>229.388462</td>\n",
       "      <td>216.698</td>\n",
       "      <td>0.0</td>\n",
       "      <td>0.003829</td>\n",
       "    </tr>\n",
       "    <tr>\n",
       "      <th>2022-10-19</th>\n",
       "      <td>222.04</td>\n",
       "      <td>226.064615</td>\n",
       "      <td>217.658</td>\n",
       "      <td>0.0</td>\n",
       "      <td>0.008402</td>\n",
       "    </tr>\n",
       "  </tbody>\n",
       "</table>\n",
       "<p>1712 rows × 5 columns</p>\n",
       "</div>"
      ],
      "text/plain": [
       "              TSLA    slow_SMA  fast_SMA  signal  actual_returns\n",
       "2016-01-04  223.41         NaN       NaN     0.0             NaN\n",
       "2016-01-05  223.43         NaN       NaN     0.0        0.000090\n",
       "2016-01-06  219.04         NaN       NaN     0.0       -0.019648\n",
       "2016-01-07  215.65         NaN       NaN     0.0       -0.015477\n",
       "2016-01-08  211.00         NaN   218.506     0.0       -0.021563\n",
       "...            ...         ...       ...     ...             ...\n",
       "2022-10-13  221.72  244.344615   220.298     0.0        0.020622\n",
       "2022-10-14  204.99  238.348462   216.682     0.0       -0.075456\n",
       "2022-10-17  219.35  233.082308   215.960     0.0        0.070052\n",
       "2022-10-18  220.19  229.388462   216.698     0.0        0.003829\n",
       "2022-10-19  222.04  226.064615   217.658     0.0        0.008402\n",
       "\n",
       "[1712 rows x 5 columns]"
      ]
     },
     "execution_count": 11,
     "metadata": {},
     "output_type": "execute_result"
    }
   ],
   "source": [
    "tesla_data['signal'] = 0.0\n",
    "tesla_data['actual_returns'] = tesla_data['TSLA'].pct_change()\n",
    "tesla_data"
   ]
  },
  {
   "cell_type": "code",
   "execution_count": 12,
   "id": "1925cfba",
   "metadata": {},
   "outputs": [],
   "source": [
    "for i in tesla_data['actual_returns']:\n",
    "    if i > 0:\n",
    "        z = True\n",
    "    else:\n",
    "        z = False"
   ]
  },
  {
   "cell_type": "code",
   "execution_count": 13,
   "id": "d3467d09",
   "metadata": {},
   "outputs": [],
   "source": [
    "tesla_data.loc[(tesla_data['actual_returns'] >= 0), 'signal'] = -1\n",
    "tesla_data.loc[(tesla_data['actual_returns'] < 0), 'signal'] = 1"
   ]
  },
  {
   "cell_type": "code",
   "execution_count": 14,
   "id": "c0f43df5",
   "metadata": {},
   "outputs": [],
   "source": [
    "y = tesla_data['signal'].copy()"
   ]
  },
  {
   "cell_type": "code",
   "execution_count": 15,
   "id": "cdeb453f",
   "metadata": {},
   "outputs": [
    {
     "name": "stdout",
     "output_type": "stream",
     "text": [
      "2016-01-22\n"
     ]
    }
   ],
   "source": [
    "training_begin = X.index.min()\n",
    "print(training_begin)\n",
    "training_end = X.index.min() + DateOffset(months=72)\n"
   ]
  },
  {
   "cell_type": "code",
   "execution_count": 16,
   "id": "f3c83c6c",
   "metadata": {},
   "outputs": [],
   "source": [
    "X_train = X.loc[training_begin:training_end]\n",
    "y_train = y.loc[training_begin:training_end]"
   ]
  },
  {
   "cell_type": "code",
   "execution_count": 17,
   "id": "ef820888",
   "metadata": {},
   "outputs": [],
   "source": [
    "X_test = X.loc[training_end:]\n",
    "y_test = y.loc[training_end:]"
   ]
  },
  {
   "cell_type": "code",
   "execution_count": 18,
   "id": "af00218b",
   "metadata": {},
   "outputs": [],
   "source": [
    "scaler = StandardScaler()\n",
    "X_scaler = scaler.fit(X_train)\n",
    "X_train_scaled = X_scaler.transform(X_train)\n",
    "X_test_scaled = X_scaler.transform(X_test)"
   ]
  },
  {
   "cell_type": "code",
   "execution_count": 19,
   "id": "5d77b261",
   "metadata": {},
   "outputs": [],
   "source": [
    "rf_model = RandomForestClassifier(n_estimators=500, random_state=78)"
   ]
  },
  {
   "cell_type": "code",
   "execution_count": 20,
   "id": "ed850a2c",
   "metadata": {},
   "outputs": [],
   "source": [
    "rf_model = rf_model.fit(X_train_scaled, y_train)"
   ]
  },
  {
   "cell_type": "code",
   "execution_count": 21,
   "id": "4271319c",
   "metadata": {},
   "outputs": [],
   "source": [
    "predictions = rf_model.predict(X_test_scaled)"
   ]
  },
  {
   "cell_type": "code",
   "execution_count": 22,
   "id": "d81300a7",
   "metadata": {},
   "outputs": [],
   "source": [
    "cm = confusion_matrix(y_test, predictions)\n",
    "cm_df = pd.DataFrame(\n",
    "    cm, index=[\"Actual 0\", \"Actual 1\"], columns=[\"Predicted 0\", \"Predicted 1\"]\n",
    ")\n",
    "\n",
    "# Calculating the accuracy score\n",
    "acc_score = accuracy_score(y_test, predictions)"
   ]
  },
  {
   "cell_type": "code",
   "execution_count": 23,
   "id": "fbf4061d",
   "metadata": {},
   "outputs": [
    {
     "name": "stdout",
     "output_type": "stream",
     "text": [
      "Confusion Matrix\n"
     ]
    },
    {
     "data": {
      "text/html": [
       "<div>\n",
       "<style scoped>\n",
       "    .dataframe tbody tr th:only-of-type {\n",
       "        vertical-align: middle;\n",
       "    }\n",
       "\n",
       "    .dataframe tbody tr th {\n",
       "        vertical-align: top;\n",
       "    }\n",
       "\n",
       "    .dataframe thead th {\n",
       "        text-align: right;\n",
       "    }\n",
       "</style>\n",
       "<table border=\"1\" class=\"dataframe\">\n",
       "  <thead>\n",
       "    <tr style=\"text-align: right;\">\n",
       "      <th></th>\n",
       "      <th>Predicted 0</th>\n",
       "      <th>Predicted 1</th>\n",
       "    </tr>\n",
       "  </thead>\n",
       "  <tbody>\n",
       "    <tr>\n",
       "      <th>Actual 0</th>\n",
       "      <td>51</td>\n",
       "      <td>45</td>\n",
       "    </tr>\n",
       "    <tr>\n",
       "      <th>Actual 1</th>\n",
       "      <td>46</td>\n",
       "      <td>45</td>\n",
       "    </tr>\n",
       "  </tbody>\n",
       "</table>\n",
       "</div>"
      ],
      "text/plain": [
       "          Predicted 0  Predicted 1\n",
       "Actual 0           51           45\n",
       "Actual 1           46           45"
      ]
     },
     "metadata": {},
     "output_type": "display_data"
    },
    {
     "name": "stdout",
     "output_type": "stream",
     "text": [
      "Accuracy Score : 0.5133689839572193\n",
      "Classification Report\n",
      "              precision    recall  f1-score   support\n",
      "\n",
      "        -1.0       0.53      0.53      0.53        96\n",
      "         1.0       0.50      0.49      0.50        91\n",
      "\n",
      "    accuracy                           0.51       187\n",
      "   macro avg       0.51      0.51      0.51       187\n",
      "weighted avg       0.51      0.51      0.51       187\n",
      "\n"
     ]
    }
   ],
   "source": [
    "# Displaying results\n",
    "print(\"Confusion Matrix\")\n",
    "display(cm_df)\n",
    "print(f\"Accuracy Score : {acc_score}\")\n",
    "print(\"Classification Report\")\n",
    "print(classification_report(y_test, predictions))"
   ]
  },
  {
   "cell_type": "code",
   "execution_count": 24,
   "id": "6a70e3b8",
   "metadata": {},
   "outputs": [
    {
     "name": "stdout",
     "output_type": "stream",
     "text": [
      "              precision    recall  f1-score   support\n",
      "\n",
      "        -1.0       0.53      0.53      0.53        96\n",
      "         1.0       0.50      0.49      0.50        91\n",
      "\n",
      "    accuracy                           0.51       187\n",
      "   macro avg       0.51      0.51      0.51       187\n",
      "weighted avg       0.51      0.51      0.51       187\n",
      "\n"
     ]
    }
   ],
   "source": [
    "\n",
    "# Create a Dataframe using predicted data\n",
    "predictions_data = pd.DataFrame(index=X_test.index)\n",
    "testing_report = classification_report(y_test, predictions)\n",
    "print(testing_report)\n",
    "\n",
    "# Add two new columns to the DateFrame called predicted signals and actual returns\n",
    "predictions_data['predicted_signals'] = predictions\n",
    "predictions_data['actual_returns'] = tesla_data['actual_returns']\n",
    "\n",
    "# Add third column that is the sum of the two previously made columns\n",
    "predictions_data['predictions'] = (predictions_data['actual_returns'] * predictions_data['predicted_signals'])"
   ]
  },
  {
   "cell_type": "code",
   "execution_count": 25,
   "id": "951d9e4d",
   "metadata": {},
   "outputs": [
    {
     "data": {
      "text/plain": [
       "<AxesSubplot:>"
      ]
     },
     "execution_count": 25,
     "metadata": {},
     "output_type": "execute_result"
    },
    {
     "data": {
      "image/png": "[encoded data removed]",
      "text/plain": [
       "<Figure size 432x288 with 1 Axes>"
      ]
     },
     "metadata": {
      "needs_background": "light"
     },
     "output_type": "display_data"
    }
   ],
   "source": [
    "\n",
    "(1 + predictions_data[['actual_returns', 'predictions']]).cumprod().plot()"
   ]
  },
  {
   "cell_type": "code",
   "execution_count": null,
   "id": "25c7665e",
   "metadata": {},
   "outputs": [],
   "source": []
  }
 ],
 "metadata": {
  "instance_type": "ml.t3.medium",
  "kernelspec": {
   "display_name": "conda_amazonei_mxnet_p36",
   "language": "python",
   "name": "conda_amazonei_mxnet_p36"
  },
  "language_info": {
   "codemirror_mode": {
    "name": "ipython",
    "version": 3
   },
   "file_extension": ".py",
   "mimetype": "text/x-python",
   "name": "python",
   "nbconvert_exporter": "python",
   "pygments_lexer": "ipython3",
   "version": "3.6.13"
  }
 },
 "nbformat": 4,
 "nbformat_minor": 5
}
