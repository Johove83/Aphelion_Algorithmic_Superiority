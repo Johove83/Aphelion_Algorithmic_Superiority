{
 "cells": [
  {
   "cell_type": "code",
   "execution_count": 2,
   "id": "641590c4-7358-4735-af45-1b5d8f059f96",
   "metadata": {
    "tags": []
   },
   "outputs": [
    {
     "name": "stdout",
     "output_type": "stream",
     "text": [
      "Requirement already satisfied: alpaca_trade_api in /opt/conda/lib/python3.7/site-packages (2.3.0)\n",
      "Requirement already satisfied: urllib3<2,>1.24 in /opt/conda/lib/python3.7/site-packages (from alpaca_trade_api) (1.26.12)\n",
      "Requirement already satisfied: deprecation==2.1.0 in /opt/conda/lib/python3.7/site-packages (from alpaca_trade_api) (2.1.0)\n",
      "Requirement already satisfied: PyYAML==6.0 in /opt/conda/lib/python3.7/site-packages (from alpaca_trade_api) (6.0)\n",
      "Requirement already satisfied: msgpack==1.0.3 in /opt/conda/lib/python3.7/site-packages (from alpaca_trade_api) (1.0.3)\n",
      "Requirement already satisfied: numpy>=1.11.1 in /opt/conda/lib/python3.7/site-packages (from alpaca_trade_api) (1.21.6)\n",
      "Requirement already satisfied: requests<3,>2 in /opt/conda/lib/python3.7/site-packages (from alpaca_trade_api) (2.28.1)\n",
      "Requirement already satisfied: pandas>=0.18.1 in /opt/conda/lib/python3.7/site-packages (from alpaca_trade_api) (1.3.5)\n",
      "Requirement already satisfied: aiohttp==3.8.1 in /opt/conda/lib/python3.7/site-packages (from alpaca_trade_api) (3.8.1)\n",
      "Requirement already satisfied: websocket-client<2,>=0.56.0 in /opt/conda/lib/python3.7/site-packages (from alpaca_trade_api) (0.59.0)\n",
      "Requirement already satisfied: websockets<11,>=9.0 in /opt/conda/lib/python3.7/site-packages (from alpaca_trade_api) (10.3)\n",
      "Requirement already satisfied: aiosignal>=1.1.2 in /opt/conda/lib/python3.7/site-packages (from aiohttp==3.8.1->alpaca_trade_api) (1.2.0)\n",
      "Requirement already satisfied: charset-normalizer<3.0,>=2.0 in /opt/conda/lib/python3.7/site-packages (from aiohttp==3.8.1->alpaca_trade_api) (2.0.4)\n",
      "Requirement already satisfied: frozenlist>=1.1.1 in /opt/conda/lib/python3.7/site-packages (from aiohttp==3.8.1->alpaca_trade_api) (1.3.1)\n",
      "Requirement already satisfied: asynctest==0.13.0 in /opt/conda/lib/python3.7/site-packages (from aiohttp==3.8.1->alpaca_trade_api) (0.13.0)\n",
      "Requirement already satisfied: yarl<2.0,>=1.0 in /opt/conda/lib/python3.7/site-packages (from aiohttp==3.8.1->alpaca_trade_api) (1.8.1)\n",
      "Requirement already satisfied: multidict<7.0,>=4.5 in /opt/conda/lib/python3.7/site-packages (from aiohttp==3.8.1->alpaca_trade_api) (6.0.2)\n",
      "Requirement already satisfied: typing-extensions>=3.7.4 in /opt/conda/lib/python3.7/site-packages (from aiohttp==3.8.1->alpaca_trade_api) (4.3.0)\n",
      "Requirement already satisfied: async-timeout<5.0,>=4.0.0a3 in /opt/conda/lib/python3.7/site-packages (from aiohttp==3.8.1->alpaca_trade_api) (4.0.2)\n",
      "Requirement already satisfied: attrs>=17.3.0 in /opt/conda/lib/python3.7/site-packages (from aiohttp==3.8.1->alpaca_trade_api) (21.4.0)\n",
      "Requirement already satisfied: packaging in /opt/conda/lib/python3.7/site-packages (from deprecation==2.1.0->alpaca_trade_api) (20.1)\n",
      "Requirement already satisfied: pytz>=2017.3 in /opt/conda/lib/python3.7/site-packages (from pandas>=0.18.1->alpaca_trade_api) (2019.3)\n",
      "Requirement already satisfied: python-dateutil>=2.7.3 in /opt/conda/lib/python3.7/site-packages (from pandas>=0.18.1->alpaca_trade_api) (2.8.1)\n",
      "Requirement already satisfied: certifi>=2017.4.17 in /opt/conda/lib/python3.7/site-packages (from requests<3,>2->alpaca_trade_api) (2022.6.15)\n",
      "Requirement already satisfied: idna<4,>=2.5 in /opt/conda/lib/python3.7/site-packages (from requests<3,>2->alpaca_trade_api) (2.8)\n",
      "Requirement already satisfied: six in /opt/conda/lib/python3.7/site-packages (from websocket-client<2,>=0.56.0->alpaca_trade_api) (1.14.0)\n",
      "Requirement already satisfied: pyparsing>=2.0.2 in /opt/conda/lib/python3.7/site-packages (from packaging->deprecation==2.1.0->alpaca_trade_api) (2.4.6)\n",
      "\u001b[33mWARNING: Running pip as the 'root' user can result in broken permissions and conflicting behaviour with the system package manager. It is recommended to use a virtual environment instead: https://pip.pypa.io/warnings/venv\u001b[0m\u001b[33m\n",
      "\u001b[0m"
     ]
    },
    {
     "data": {
      "text/plain": [
       "True"
      ]
     },
     "execution_count": 2,
     "metadata": {},
     "output_type": "execute_result"
    }
   ],
   "source": [
    "# Initial imports\n",
    "import os\n",
    "import pandas as pd\n",
    "from pathlib import Path\n",
    "from dotenv import load_dotenv\n",
    "! pip install alpaca_trade_api\n",
    "# Load .env environment variables\n",
    "load_dotenv()"
   ]
  },
  {
   "cell_type": "code",
   "execution_count": 3,
   "id": "eaee8a92-154e-475d-b98b-802526b3781d",
   "metadata": {},
   "outputs": [],
   "source": [
    "import alpaca_trade_api as tradeapi\n",
    "\n",
    "API_KEY = os.getenv(\"ALPACA_API_KEY\")\n",
    "API_SECRET = os.getenv(\"ALPACA_SECRET_KEY\")\n",
    "ALPACA_API_BASE_URL = \"https://paper-api.alpaca.markets\""
   ]
  },
  {
   "cell_type": "code",
   "execution_count": 4,
   "id": "f6e6add0-919f-490c-acf5-35e4d71f49fe",
   "metadata": {},
   "outputs": [],
   "source": [
    "# Create a connection to the API \n",
    "api = tradeapi.REST(\"PKWX5HGDE21VGA2ARFSP\", \"oJmhRhY5PYNWuYBDCJyjf58Tq5gQgbCWtuV33y7b\", ALPACA_API_BASE_URL, api_version=\"v2\")\n"
   ]
  },
  {
   "cell_type": "code",
   "execution_count": 5,
   "id": "fece4aab-d57c-4ee1-aefb-a8f7045437ad",
   "metadata": {},
   "outputs": [],
   "source": [
    "# Set signal variable\n",
    "signal = 1"
   ]
  },
  {
   "cell_type": "code",
   "execution_count": 6,
   "id": "6da09ef5-0a3d-4ddb-8f2a-b6034c7b52ca",
   "metadata": {},
   "outputs": [],
   "source": [
    "# Create buy signal, num shares and ticker\n",
    "if signal == 1:\n",
    "    orderSide = 'buy'\n",
    "else:\n",
    "    orderSide = 'sell'"
   ]
  },
  {
   "cell_type": "code",
   "execution_count": 7,
   "id": "6864f6ed-9eae-4bae-a038-137419f6ef69",
   "metadata": {},
   "outputs": [],
   "source": [
    "# Set the ticket symbol and the number of shares to buy\n",
    "ticker = 'TSLA'\n",
    "number_of_shares = 5"
   ]
  },
  {
   "cell_type": "code",
   "execution_count": 10,
   "id": "e2c2c768-4c51-4376-b1d8-685970293f10",
   "metadata": {},
   "outputs": [
    {
     "name": "stdout",
     "output_type": "stream",
     "text": [
      "                             TSLA                                             \\\n",
      "                             open    high     low   close volume trade_count   \n",
      "timestamp                                                                      \n",
      "2022-10-20 08:00:00+00:00  209.74  209.74  208.41  209.28  22663         621   \n",
      "2022-10-20 08:01:00+00:00  209.15  209.20  207.64  207.67  25749        1001   \n",
      "2022-10-20 08:02:00+00:00  208.00  208.83  208.00  208.53  12136         475   \n",
      "2022-10-20 08:03:00+00:00  208.71  208.95  208.67  208.95   7855         275   \n",
      "2022-10-20 08:04:00+00:00  208.95  209.20  208.82  208.85  18764         570   \n",
      "...                           ...     ...     ...     ...    ...         ...   \n",
      "2022-10-20 23:43:00+00:00  206.45  206.45  206.39  206.40   1672          77   \n",
      "2022-10-20 23:44:00+00:00  206.40  206.44  206.40  206.44   1783          59   \n",
      "2022-10-20 23:45:00+00:00  206.51  206.60  206.46  206.60   3274          89   \n",
      "2022-10-20 23:46:00+00:00  206.60  206.60  206.50  206.50   2431          58   \n",
      "2022-10-20 23:47:00+00:00  206.48  206.48  206.30  206.30   2357          77   \n",
      "\n",
      "                                       \n",
      "                                 vwap  \n",
      "timestamp                              \n",
      "2022-10-20 08:00:00+00:00  209.105361  \n",
      "2022-10-20 08:01:00+00:00  208.255293  \n",
      "2022-10-20 08:02:00+00:00  208.401262  \n",
      "2022-10-20 08:03:00+00:00  208.743472  \n",
      "2022-10-20 08:04:00+00:00  208.977297  \n",
      "...                               ...  \n",
      "2022-10-20 23:43:00+00:00  206.420667  \n",
      "2022-10-20 23:44:00+00:00  206.414790  \n",
      "2022-10-20 23:45:00+00:00  206.538755  \n",
      "2022-10-20 23:46:00+00:00  206.570714  \n",
      "2022-10-20 23:47:00+00:00  206.371445  \n",
      "\n",
      "[935 rows x 7 columns]\n"
     ]
    }
   ],
   "source": [
    "# Make API call\n",
    "prices = api.get_bars(ticker, '1Min').df\n",
    "\n",
    "# Reorganize the DataFrame\n",
    "prices = pd.concat([prices], axis=1, keys=['TSLA'])\n",
    "\n",
    "# Get final closing price\n",
    "limit_amount = prices['TSLA']['close'][-1]\n",
    "\n"
   ]
  },
  {
   "cell_type": "code",
   "execution_count": 9,
   "id": "0ecb20d6-b28d-4212-84ad-cfeab18a7a12",
   "metadata": {},
   "outputs": [
    {
     "data": {
      "text/plain": [
       "Order({   'asset_class': 'us_equity',\n",
       "    'asset_id': '8ccae427-5dd0-45b3-b5fe-7ba5e422c766',\n",
       "    'canceled_at': None,\n",
       "    'client_order_id': '32df1cd0-a9bc-4b6d-8582-50d8fab209fa',\n",
       "    'created_at': '2022-10-20T23:53:23.448024212Z',\n",
       "    'expired_at': None,\n",
       "    'extended_hours': False,\n",
       "    'failed_at': None,\n",
       "    'filled_at': None,\n",
       "    'filled_avg_price': None,\n",
       "    'filled_qty': '0',\n",
       "    'hwm': None,\n",
       "    'id': '181ff295-719e-4df1-9bb1-a74aee7f0ced',\n",
       "    'legs': None,\n",
       "    'limit_price': '206.25',\n",
       "    'notional': None,\n",
       "    'order_class': '',\n",
       "    'order_type': 'limit',\n",
       "    'qty': '5',\n",
       "    'replaced_at': None,\n",
       "    'replaced_by': None,\n",
       "    'replaces': None,\n",
       "    'side': 'buy',\n",
       "    'source': None,\n",
       "    'status': 'accepted',\n",
       "    'stop_price': None,\n",
       "    'submitted_at': '2022-10-20T23:53:23.447100392Z',\n",
       "    'subtag': None,\n",
       "    'symbol': 'TSLA',\n",
       "    'time_in_force': 'gtc',\n",
       "    'trail_percent': None,\n",
       "    'trail_price': None,\n",
       "    'type': 'limit',\n",
       "    'updated_at': '2022-10-20T23:53:23.448024212Z'})"
      ]
     },
     "execution_count": 9,
     "metadata": {},
     "output_type": "execute_result"
    }
   ],
   "source": [
    "# Submit order\n",
    "api.submit_order(\n",
    "    symbol='TSLA',\n",
    "    qty=number_of_shares,\n",
    "    side=orderSide,\n",
    "    time_in_force='gtc',\n",
    "    type='limit',\n",
    "    limit_price=limit_amount)"
   ]
  }
 ],
 "metadata": {
  "instance_type": "ml.t3.medium",
  "kernelspec": {
   "display_name": "Python 3 (Data Science)",
   "language": "python",
   "name": "python3__SAGEMAKER_INTERNAL__arn:aws:sagemaker:us-west-2:236514542706:image/datascience-1.0"
  },
  "language_info": {
   "codemirror_mode": {
    "name": "ipython",
    "version": 3
   },
   "file_extension": ".py",
   "mimetype": "text/x-python",
   "name": "python",
   "nbconvert_exporter": "python",
   "pygments_lexer": "ipython3",
   "version": "3.7.10"
  }
 },
 "nbformat": 4,
 "nbformat_minor": 5
}
